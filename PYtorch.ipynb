{
  "nbformat": 4,
  "nbformat_minor": 0,
  "metadata": {
    "colab": {
      "name": "PYtorch.ipynb",
      "version": "0.3.2",
      "provenance": [],
      "collapsed_sections": [],
      "include_colab_link": true
    },
    "kernelspec": {
      "name": "python3",
      "display_name": "Python 3"
    },
    "accelerator": "GPU"
  },
  "cells": [
    {
      "cell_type": "markdown",
      "metadata": {
        "id": "view-in-github",
        "colab_type": "text"
      },
      "source": [
        "<a href=\"https://colab.research.google.com/github/mandy1057/udacity_cnn/blob/master/PYtorch.ipynb\" target=\"_parent\"><img src=\"https://colab.research.google.com/assets/colab-badge.svg\" alt=\"Open In Colab\"/></a>"
      ]
    },
    {
      "cell_type": "code",
      "metadata": {
        "id": "kKZYIDJjgMl_",
        "colab_type": "code",
        "outputId": "1527a239-721b-4dd5-fde9-d9a34ac8c886",
        "colab": {
          "base_uri": "https://localhost:8080/",
          "height": 221
        }
      },
      "source": [
        "!pip3 install https://download.pytorch.org/whl/cu100/torch-1.1.0-cp36-cp36m-linux_x86_64.whl"
      ],
      "execution_count": 0,
      "outputs": [
        {
          "output_type": "stream",
          "text": [
            "Collecting torch==1.1.0 from https://download.pytorch.org/whl/cu100/torch-1.1.0-cp36-cp36m-linux_x86_64.whl\n",
            "\u001b[?25l  Downloading https://download.pytorch.org/whl/cu100/torch-1.1.0-cp36-cp36m-linux_x86_64.whl (770.7MB)\n",
            "\u001b[K     |████████████████████████████████| 770.7MB 20kB/s \n",
            "\u001b[?25hRequirement already satisfied: numpy in /usr/local/lib/python3.6/dist-packages (from torch==1.1.0) (1.16.4)\n",
            "\u001b[31mERROR: fastai 1.0.52 requires torchvision, which is not installed.\u001b[0m\n",
            "Installing collected packages: torch\n",
            "Successfully installed torch-1.1.0\n"
          ],
          "name": "stdout"
        },
        {
          "output_type": "display_data",
          "data": {
            "application/vnd.colab-display-data+json": {
              "pip_warning": {
                "packages": [
                  "torch"
                ]
              }
            }
          },
          "metadata": {
            "tags": []
          }
        }
      ]
    },
    {
      "cell_type": "code",
      "metadata": {
        "id": "hdxg3O-gizbN",
        "colab_type": "code",
        "colab": {}
      },
      "source": [
        "import torch "
      ],
      "execution_count": 0,
      "outputs": []
    },
    {
      "cell_type": "code",
      "metadata": {
        "id": "p-pA1PGajJQp",
        "colab_type": "code",
        "outputId": "b346922d-9dbf-4db3-cfbe-f02a7139415c",
        "colab": {
          "base_uri": "https://localhost:8080/",
          "height": 187
        }
      },
      "source": [
        "!pip3 install https://download.pytorch.org/whl/cu100/torchvision-0.3.0-cp36-cp36m-linux_x86_64.whl"
      ],
      "execution_count": 0,
      "outputs": [
        {
          "output_type": "stream",
          "text": [
            "Collecting torchvision==0.3.0 from https://download.pytorch.org/whl/cu100/torchvision-0.3.0-cp36-cp36m-linux_x86_64.whl\n",
            "\u001b[?25l  Downloading https://download.pytorch.org/whl/cu100/torchvision-0.3.0-cp36-cp36m-linux_x86_64.whl (2.6MB)\n",
            "\u001b[K     |████████████████████████████████| 2.6MB 572kB/s \n",
            "\u001b[?25hRequirement already satisfied: numpy in /usr/local/lib/python3.6/dist-packages (from torchvision==0.3.0) (1.16.4)\n",
            "Requirement already satisfied: pillow>=4.1.1 in /usr/local/lib/python3.6/dist-packages (from torchvision==0.3.0) (4.3.0)\n",
            "Requirement already satisfied: torch>=1.1.0 in /usr/local/lib/python3.6/dist-packages (from torchvision==0.3.0) (1.1.0)\n",
            "Requirement already satisfied: six in /usr/local/lib/python3.6/dist-packages (from torchvision==0.3.0) (1.12.0)\n",
            "Requirement already satisfied: olefile in /usr/local/lib/python3.6/dist-packages (from pillow>=4.1.1->torchvision==0.3.0) (0.46)\n",
            "Installing collected packages: torchvision\n",
            "Successfully installed torchvision-0.3.0\n"
          ],
          "name": "stdout"
        }
      ]
    },
    {
      "cell_type": "code",
      "metadata": {
        "id": "k63nU07XjKxn",
        "colab_type": "code",
        "colab": {}
      },
      "source": [
        "import torch\n",
        "import torchvision"
      ],
      "execution_count": 0,
      "outputs": []
    },
    {
      "cell_type": "code",
      "metadata": {
        "id": "3FWH6F56jWZj",
        "colab_type": "code",
        "colab": {}
      },
      "source": [
        "from torchvision.datasets import FashionMNIST\n",
        "from torch.utils.data import DataLoader\n",
        "from torchvision import transforms"
      ],
      "execution_count": 0,
      "outputs": []
    },
    {
      "cell_type": "code",
      "metadata": {
        "id": "viMNLH9qjhKr",
        "colab_type": "code",
        "colab": {}
      },
      "source": [
        "data_transform = transforms.ToTensor()"
      ],
      "execution_count": 0,
      "outputs": []
    },
    {
      "cell_type": "code",
      "metadata": {
        "id": "GnXAVLU0kAro",
        "colab_type": "code",
        "outputId": "fcf2528f-fe6a-4858-8215-eeecf4fcc5f5",
        "colab": {
          "base_uri": "https://localhost:8080/",
          "height": 275
        }
      },
      "source": [
        "train_data = FashionMNIST(root='./data', train=True,\n",
        "                                   download=True, transform=data_transform)"
      ],
      "execution_count": 0,
      "outputs": [
        {
          "output_type": "stream",
          "text": [
            "  0%|          | 49152/26421880 [00:00<01:01, 431181.93it/s]"
          ],
          "name": "stderr"
        },
        {
          "output_type": "stream",
          "text": [
            "Downloading http://fashion-mnist.s3-website.eu-central-1.amazonaws.com/train-images-idx3-ubyte.gz to ./data/FashionMNIST/raw/train-images-idx3-ubyte.gz\n"
          ],
          "name": "stdout"
        },
        {
          "output_type": "stream",
          "text": [
            "26427392it [00:00, 73647513.58it/s]                            \n"
          ],
          "name": "stderr"
        },
        {
          "output_type": "stream",
          "text": [
            "Extracting ./data/FashionMNIST/raw/train-images-idx3-ubyte.gz\n"
          ],
          "name": "stdout"
        },
        {
          "output_type": "stream",
          "text": [
            "32768it [00:00, 355835.45it/s]\n",
            "0it [00:00, ?it/s]"
          ],
          "name": "stderr"
        },
        {
          "output_type": "stream",
          "text": [
            "Downloading http://fashion-mnist.s3-website.eu-central-1.amazonaws.com/train-labels-idx1-ubyte.gz to ./data/FashionMNIST/raw/train-labels-idx1-ubyte.gz\n",
            "Extracting ./data/FashionMNIST/raw/train-labels-idx1-ubyte.gz\n",
            "Downloading http://fashion-mnist.s3-website.eu-central-1.amazonaws.com/t10k-images-idx3-ubyte.gz to ./data/FashionMNIST/raw/t10k-images-idx3-ubyte.gz\n"
          ],
          "name": "stdout"
        },
        {
          "output_type": "stream",
          "text": [
            "4423680it [00:00, 25705183.80it/s]                           \n",
            "8192it [00:00, 162771.39it/s]\n"
          ],
          "name": "stderr"
        },
        {
          "output_type": "stream",
          "text": [
            "Extracting ./data/FashionMNIST/raw/t10k-images-idx3-ubyte.gz\n",
            "Downloading http://fashion-mnist.s3-website.eu-central-1.amazonaws.com/t10k-labels-idx1-ubyte.gz to ./data/FashionMNIST/raw/t10k-labels-idx1-ubyte.gz\n",
            "Extracting ./data/FashionMNIST/raw/t10k-labels-idx1-ubyte.gz\n",
            "Processing...\n",
            "Done!\n"
          ],
          "name": "stdout"
        }
      ]
    },
    {
      "cell_type": "code",
      "metadata": {
        "id": "sxLWymHSkEfR",
        "colab_type": "code",
        "colab": {}
      },
      "source": [
        "test_data = FashionMNIST(root='./data', train=False,\n",
        "                                  download=True, transform=data_transform)\n"
      ],
      "execution_count": 0,
      "outputs": []
    },
    {
      "cell_type": "code",
      "metadata": {
        "id": "Qh95_pfBkH_h",
        "colab_type": "code",
        "outputId": "d977e587-27ef-467c-e5de-56cb7a865b30",
        "colab": {
          "base_uri": "https://localhost:8080/",
          "height": 51
        }
      },
      "source": [
        "print('Train data, number of images: ', len(train_data))\n",
        "print('Test data, number of images: ', len(test_data))"
      ],
      "execution_count": 0,
      "outputs": [
        {
          "output_type": "stream",
          "text": [
            "Train data, number of images:  60000\n",
            "Test data, number of images:  10000\n"
          ],
          "name": "stdout"
        }
      ]
    },
    {
      "cell_type": "code",
      "metadata": {
        "id": "YLA33ALGkNi5",
        "colab_type": "code",
        "colab": {}
      },
      "source": [
        "# prepare data loaders, set the batch_size\n",
        "## TODO: you can try changing the batch_size to be larger or smaller\n",
        "## when you get to training your network, see how batch_size affects the loss\n",
        "\n",
        "batch_size = 25\n",
        "\n",
        "train_loader = DataLoader(train_data, batch_size=batch_size, shuffle=True)\n",
        "test_loder  = DataLoader(test_data,batch_size=batch_size,shuffle=True)\n",
        "\n",
        "\n",
        "# specify the image classes\n",
        "\n",
        "classes = ['T-shirt/top', 'Trouser', 'Pullover', 'Dress', 'Coat', \n",
        "           'Sandal', 'Shirt', 'Sneaker', 'Bag', 'Ankle boot']"
      ],
      "execution_count": 0,
      "outputs": []
    },
    {
      "cell_type": "code",
      "metadata": {
        "id": "rJ-ty93ck4qY",
        "colab_type": "code",
        "outputId": "f9acd5a0-f28d-4ca3-f6a5-1257abdf0af7",
        "colab": {
          "base_uri": "https://localhost:8080/",
          "height": 54
        }
      },
      "source": [
        "import numpy as np\n",
        "import matplotlib.pyplot as plt\n",
        "\n",
        "%matplotlib inline\n",
        "    \n",
        "# obtain one batch of training images\n",
        "dataiter = iter(train_loader)\n",
        "images, labels = dataiter.next()\n",
        "images = images.numpy()\n",
        "\n",
        "# plot the images in the batch, along with the corresponding labels\n",
        "'''fig = plt.figure(figsize=(25, 4))\n",
        "for idx in np.arange(batch_size):\n",
        "    ax = fig.add_subplot(1, batch_size/2, idx+1, xticks=[], yticks=[])\n",
        "    ax.imshow(np.squeeze(images[idx]), cmap='gray')\n",
        "    ax.set_title(classes[labels[idx]])'''"
      ],
      "execution_count": 0,
      "outputs": [
        {
          "output_type": "execute_result",
          "data": {
            "text/plain": [
              "\"fig = plt.figure(figsize=(25, 4))\\nfor idx in np.arange(batch_size):\\n    ax = fig.add_subplot(1, batch_size/2, idx+1, xticks=[], yticks=[])\\n    ax.imshow(np.squeeze(images[idx]), cmap='gray')\\n    ax.set_title(classes[labels[idx]])\""
            ]
          },
          "metadata": {
            "tags": []
          },
          "execution_count": 15
        }
      ]
    },
    {
      "cell_type": "code",
      "metadata": {
        "id": "6Mfy3oQCk8Gp",
        "colab_type": "code",
        "colab": {}
      },
      "source": [
        "import torch.nn as nn\n",
        "import torch.nn.functional as F\n"
      ],
      "execution_count": 0,
      "outputs": []
    },
    {
      "cell_type": "code",
      "metadata": {
        "id": "h2IQdKvSmKU6",
        "colab_type": "code",
        "outputId": "9ee92ac6-9a20-41c9-8150-6fb404d9bf9c",
        "colab": {
          "base_uri": "https://localhost:8080/",
          "height": 119
        }
      },
      "source": [
        "class Net(nn.Module):\n",
        "    def __init__(self):\n",
        "        super(Net,self).__init__()\n",
        "        # 1 input image channel (grayscale), 10 output channels/feature maps\n",
        "        # 3x3 square convolution kernel\n",
        "        ## output size = (W-F)/S +1 = (28-3)/1 +1 = 26\n",
        "        # the output Tensor for one image, will have the dimensions: (10, 26, 26)\n",
        "        # after one pool layer, this becomes (10, 13, 13)\n",
        "        self.conv1 = nn.Conv2d(1,10,3)\n",
        "        \n",
        "        # maxpool layer\n",
        "        # pool with kernel_size=2, stride=2\n",
        "        self.pool =  nn.MaxPool2d(2,2)\n",
        "        \n",
        "        # second conv layer: 10 inputs, 20 outputs, 3x3 conv\n",
        "        ## output size = (W-F)/S +1 = (13-3)/1 +1 = 11\n",
        "        # the output tensor will have dimensions: (20, 11, 11)\n",
        "        # after another pool layer this becomes (20, 5, 5); 5.5 is rounded down\n",
        "        \n",
        "        self.conv2 = nn.Conv2d(10,20,3)\n",
        "        \n",
        "        # 20 outputs * the 5*5 filtered/pooled map size\n",
        "        # 10 output channels (for the 10 classes)\n",
        "        self.fc1 = nn.Linear(20*5*5,10)\n",
        "        \n",
        "     \n",
        "    def forward(self,x):\n",
        "        x = self.pool(F.relu(self.conv1(x)))\n",
        "        x = self.pool(F.relu(self.conv2(x)))\n",
        "        \n",
        "        x = x.view(x.size(0),-1)\n",
        "        \n",
        "        x = self.fc1(x)\n",
        "        \n",
        "        x = F.log_softmax(x, dim=1)\n",
        "        \n",
        "        return x\n",
        "    \n",
        "net = Net()\n",
        "print(net)\n",
        "        "
      ],
      "execution_count": 0,
      "outputs": [
        {
          "output_type": "stream",
          "text": [
            "Net(\n",
            "  (conv1): Conv2d(1, 10, kernel_size=(3, 3), stride=(1, 1))\n",
            "  (pool): MaxPool2d(kernel_size=2, stride=2, padding=0, dilation=1, ceil_mode=False)\n",
            "  (conv2): Conv2d(10, 20, kernel_size=(3, 3), stride=(1, 1))\n",
            "  (fc1): Linear(in_features=500, out_features=10, bias=True)\n",
            ")\n"
          ],
          "name": "stdout"
        }
      ]
    },
    {
      "cell_type": "code",
      "metadata": {
        "id": "kr6RjwlXo6nZ",
        "colab_type": "code",
        "colab": {}
      },
      "source": [
        "import torch.optim as optim\n",
        "\n",
        "## TODO: specify loss function \n",
        "# cross entropy loss combines softmax and nn.NLLLoss() in one single class.\n",
        "criterion = nn.NLLLoss()\n",
        "\n",
        "## TODO: specify optimizer \n",
        "# stochastic gradient descent with a small learning rate\n",
        "optimizer = optim.SGD(net.parameters(), lr=0.01)"
      ],
      "execution_count": 0,
      "outputs": []
    },
    {
      "cell_type": "code",
      "metadata": {
        "id": "7xFS3XA5pPuI",
        "colab_type": "code",
        "outputId": "141a9a9b-c50e-4da7-eb57-aad648732853",
        "colab": {
          "base_uri": "https://localhost:8080/",
          "height": 34
        }
      },
      "source": [
        "# Calculate accuracy before training\n",
        "correct = 0\n",
        "total = 0\n",
        "\n",
        "# Iterate through test dataset\n",
        "for images, labels in test_loder:\n",
        "\n",
        "    # forward pass to get outputs\n",
        "    # the outputs are a series of class scores\n",
        "    outputs = net(images)\n",
        "\n",
        "    # get the predicted class from the maximum value in the output-list of class scores\n",
        "    _, predicted = torch.max(outputs.data, 1)\n",
        "\n",
        "    # count up total number of correct labels\n",
        "    # for which the predicted and true labels are equal\n",
        "    total += labels.size(0)\n",
        "    correct += (predicted == labels).sum()\n",
        "\n",
        "# calculate the accuracy\n",
        "# to convert `correct` from a Tensor into a scalar, use .item()\n",
        "accuracy = 100.0 * correct.item() / total\n",
        "\n",
        "# print it out!\n",
        "print('Accuracy before training: ', accuracy)"
      ],
      "execution_count": 0,
      "outputs": [
        {
          "output_type": "stream",
          "text": [
            "Accuracy before training:  6.5\n"
          ],
          "name": "stdout"
        }
      ]
    },
    {
      "cell_type": "code",
      "metadata": {
        "id": "sL2eX6g1pTt4",
        "colab_type": "code",
        "colab": {}
      },
      "source": [
        "def train(n_epochs):\n",
        "    \n",
        "    loss_over_time = [] # to track the loss as the network trains\n",
        "    \n",
        "    for epoch in range(n_epochs):  # loop over the dataset multiple times\n",
        "        \n",
        "        running_loss = 0.0\n",
        "        \n",
        "        for batch_i, data in enumerate(train_loader):\n",
        "            # get the input images and their corresponding labels\n",
        "            inputs, labels = data\n",
        "\n",
        "            # zero the parameter (weight) gradients\n",
        "            optimizer.zero_grad()\n",
        "\n",
        "            # forward pass to get outputs\n",
        "            outputs = net(inputs)\n",
        "\n",
        "            # calculate the loss\n",
        "            loss = criterion(outputs, labels)\n",
        "\n",
        "            # backward pass to calculate the parameter gradients\n",
        "            loss.backward()\n",
        "\n",
        "            # update the parameters\n",
        "            optimizer.step()\n",
        "\n",
        "            # print loss statistics\n",
        "            # to convert loss into a scalar and add it to running_loss, we use .item()\n",
        "            running_loss += loss.item()\n",
        "            \n",
        "            if batch_i % 1000 == 999:    # print every 1000 batches\n",
        "                avg_loss = running_loss/1000\n",
        "                # record and print the avg loss over the 1000 batches\n",
        "                loss_over_time.append(avg_loss)\n",
        "                print('Epoch: {}, Batch: {}, Avg. Loss: {}'.format(epoch + 1, batch_i+1, avg_loss))\n",
        "                running_loss = 0.0\n",
        "\n",
        "    print('Finished Training')\n",
        "    return loss_over_time\n"
      ],
      "execution_count": 0,
      "outputs": []
    },
    {
      "cell_type": "code",
      "metadata": {
        "id": "vwKP8o9IpmjZ",
        "colab_type": "code",
        "outputId": "d3e91a39-6b81-46f5-ee6c-a8383ef132ca",
        "colab": {
          "base_uri": "https://localhost:8080/",
          "height": 1054
        }
      },
      "source": [
        "# define the number of epochs to train for\n",
        "n_epochs = 30 # start small to see if your model works, initially\n",
        "\n",
        "# call train and record the loss over time\n",
        "training_loss = train(n_epochs)"
      ],
      "execution_count": 0,
      "outputs": [
        {
          "output_type": "stream",
          "text": [
            "Epoch: 1, Batch: 1000, Avg. Loss: 1.2229373131096364\n",
            "Epoch: 1, Batch: 2000, Avg. Loss: 0.7003404630422592\n",
            "Epoch: 2, Batch: 1000, Avg. Loss: 0.5579781339168549\n",
            "Epoch: 2, Batch: 2000, Avg. Loss: 0.5160982782915234\n",
            "Epoch: 3, Batch: 1000, Avg. Loss: 0.4755638301372528\n",
            "Epoch: 3, Batch: 2000, Avg. Loss: 0.4616116755716503\n",
            "Epoch: 4, Batch: 1000, Avg. Loss: 0.43611228694021703\n",
            "Epoch: 4, Batch: 2000, Avg. Loss: 0.4260466439574957\n",
            "Epoch: 5, Batch: 1000, Avg. Loss: 0.40994522524625066\n",
            "Epoch: 5, Batch: 2000, Avg. Loss: 0.4153839112892747\n",
            "Epoch: 6, Batch: 1000, Avg. Loss: 0.40008392438292506\n",
            "Epoch: 6, Batch: 2000, Avg. Loss: 0.39094691520929337\n",
            "Epoch: 7, Batch: 1000, Avg. Loss: 0.38472760765999553\n",
            "Epoch: 7, Batch: 2000, Avg. Loss: 0.3825201311856508\n",
            "Epoch: 8, Batch: 1000, Avg. Loss: 0.3765629167109728\n",
            "Epoch: 8, Batch: 2000, Avg. Loss: 0.3691403240710497\n",
            "Epoch: 9, Batch: 1000, Avg. Loss: 0.36465772999450563\n",
            "Epoch: 9, Batch: 2000, Avg. Loss: 0.3636920418534428\n",
            "Epoch: 10, Batch: 1000, Avg. Loss: 0.3617795701734722\n",
            "Epoch: 10, Batch: 2000, Avg. Loss: 0.3530861112177372\n",
            "Epoch: 11, Batch: 1000, Avg. Loss: 0.3573564023189247\n",
            "Epoch: 11, Batch: 2000, Avg. Loss: 0.3460084039606154\n",
            "Epoch: 12, Batch: 1000, Avg. Loss: 0.34424374063313007\n",
            "Epoch: 12, Batch: 2000, Avg. Loss: 0.3470504023954272\n",
            "Epoch: 13, Batch: 1000, Avg. Loss: 0.33766569244116545\n",
            "Epoch: 13, Batch: 2000, Avg. Loss: 0.3430199341066182\n",
            "Epoch: 14, Batch: 1000, Avg. Loss: 0.3326035591736436\n",
            "Epoch: 14, Batch: 2000, Avg. Loss: 0.33631575196236374\n",
            "Epoch: 15, Batch: 1000, Avg. Loss: 0.3324100728482008\n",
            "Epoch: 15, Batch: 2000, Avg. Loss: 0.32648367614671586\n",
            "Epoch: 16, Batch: 1000, Avg. Loss: 0.32732393881306054\n",
            "Epoch: 16, Batch: 2000, Avg. Loss: 0.3281721802130341\n",
            "Epoch: 17, Batch: 1000, Avg. Loss: 0.3274277654476464\n",
            "Epoch: 17, Batch: 2000, Avg. Loss: 0.32065111839957533\n",
            "Epoch: 18, Batch: 1000, Avg. Loss: 0.32527352225780487\n",
            "Epoch: 18, Batch: 2000, Avg. Loss: 0.30864311022683977\n",
            "Epoch: 19, Batch: 1000, Avg. Loss: 0.3153531004190445\n",
            "Epoch: 19, Batch: 2000, Avg. Loss: 0.32047661269456146\n",
            "Epoch: 20, Batch: 1000, Avg. Loss: 0.3160732266455889\n",
            "Epoch: 20, Batch: 2000, Avg. Loss: 0.31633106837794184\n",
            "Epoch: 21, Batch: 1000, Avg. Loss: 0.3095479163751006\n",
            "Epoch: 21, Batch: 2000, Avg. Loss: 0.31191400245577094\n",
            "Epoch: 22, Batch: 1000, Avg. Loss: 0.3127453290000558\n",
            "Epoch: 22, Batch: 2000, Avg. Loss: 0.30699792731925846\n",
            "Epoch: 23, Batch: 1000, Avg. Loss: 0.30537709667906165\n",
            "Epoch: 23, Batch: 2000, Avg. Loss: 0.3028020966388285\n",
            "Epoch: 24, Batch: 1000, Avg. Loss: 0.306196110535413\n",
            "Epoch: 24, Batch: 2000, Avg. Loss: 0.30166968260705473\n",
            "Epoch: 25, Batch: 1000, Avg. Loss: 0.29859515685215593\n",
            "Epoch: 25, Batch: 2000, Avg. Loss: 0.30547142603620886\n",
            "Epoch: 26, Batch: 1000, Avg. Loss: 0.2978443188369274\n",
            "Epoch: 26, Batch: 2000, Avg. Loss: 0.3003191838469356\n",
            "Epoch: 27, Batch: 1000, Avg. Loss: 0.2969818547088653\n",
            "Epoch: 27, Batch: 2000, Avg. Loss: 0.29939044699259104\n",
            "Epoch: 28, Batch: 1000, Avg. Loss: 0.2939275774434209\n",
            "Epoch: 28, Batch: 2000, Avg. Loss: 0.29010052715986967\n",
            "Epoch: 29, Batch: 1000, Avg. Loss: 0.2946555570922792\n",
            "Epoch: 29, Batch: 2000, Avg. Loss: 0.2883643613792956\n",
            "Epoch: 30, Batch: 1000, Avg. Loss: 0.2868171493113041\n",
            "Epoch: 30, Batch: 2000, Avg. Loss: 0.29147383018024264\n",
            "Finished Training\n"
          ],
          "name": "stdout"
        }
      ]
    },
    {
      "cell_type": "code",
      "metadata": {
        "id": "y37s2OrSpqLI",
        "colab_type": "code",
        "outputId": "73e08a4c-4068-4017-bc72-13d626c86b0d",
        "colab": {
          "base_uri": "https://localhost:8080/",
          "height": 283
        }
      },
      "source": [
        "# visualize the loss as the network trained\n",
        "plt.plot(training_loss)\n",
        "plt.xlabel('1000\\'s of batches')\n",
        "plt.ylabel('loss')\n",
        "plt.ylim(0, 2.5) # consistent scale\n",
        "plt.show()"
      ],
      "execution_count": 0,
      "outputs": [
        {
          "output_type": "display_data",
          "data": {
            "image/png": "[encoded data removed]",
            "text/plain": [
              "<Figure size 432x288 with 1 Axes>"
            ]
          },
          "metadata": {
            "tags": []
          }
        }
      ]
    },
    {
      "cell_type": "code",
      "metadata": {
        "id": "qYrA12UCp454",
        "colab_type": "code",
        "outputId": "f48dd0ba-9ddd-40a2-e92c-b9a330f380cd",
        "colab": {
          "base_uri": "https://localhost:8080/",
          "height": 255
        }
      },
      "source": [
        "# initialize tensor and lists to monitor test loss and accuracy\n",
        "test_loss = torch.zeros(1)\n",
        "class_correct = list(0. for i in range(10))\n",
        "class_total = list(0. for i in range(10))\n",
        "\n",
        "# set the module to evaluation mode\n",
        "net.eval()\n",
        "\n",
        "for batch_i, data in enumerate(test_loder):\n",
        "    \n",
        "    # get the input images and their corresponding labels\n",
        "    inputs, labels = data\n",
        "    \n",
        "    # forward pass to get outputs\n",
        "    outputs = net(inputs)\n",
        "\n",
        "    # calculate the loss\n",
        "    loss = criterion(outputs, labels)\n",
        "            \n",
        "    # update average test loss \n",
        "    test_loss = test_loss + ((torch.ones(1) / (batch_i + 1)) * (loss.data - test_loss))\n",
        "    \n",
        "    # get the predicted class from the maximum value in the output-list of class scores\n",
        "    _, predicted = torch.max(outputs.data, 1)\n",
        "    \n",
        "    # compare predictions to true label\n",
        "    # this creates a `correct` Tensor that holds the number of correctly classified images in a batch\n",
        "    correct = np.squeeze(predicted.eq(labels.data.view_as(predicted)))\n",
        "    \n",
        "    # calculate test accuracy for *each* object class\n",
        "    # we get the scalar value of correct items for a class, by calling `correct[i].item()`\n",
        "    for i in range(batch_size):\n",
        "        label = labels.data[i]\n",
        "        class_correct[label] += correct[i].item()\n",
        "        class_total[label] += 1\n",
        "\n",
        "print('Test Loss: {:.6f}\\n'.format(test_loss.numpy()[0]))\n",
        "\n",
        "for i in range(10):\n",
        "    if class_total[i] > 0:\n",
        "        print('Test Accuracy of %5s: %2d%% (%2d/%2d)' % (\n",
        "            classes[i], 100 * class_correct[i] / class_total[i],\n",
        "            np.sum(class_correct[i]), np.sum(class_total[i])))\n",
        "    else:\n",
        "        print('Test Accuracy of %5s: N/A (no training examples)' % (classes[i]))\n",
        "\n",
        "        \n",
        "print('\\nTest Accuracy (Overall): %2d%% (%2d/%2d)' % (\n",
        "    100. * np.sum(class_correct) / np.sum(class_total),\n",
        "    np.sum(class_correct), np.sum(class_total)))"
      ],
      "execution_count": 0,
      "outputs": [
        {
          "output_type": "stream",
          "text": [
            "Test Loss: 0.335826\n",
            "\n",
            "Test Accuracy of T-shirt/top: 89% (898/1000)\n",
            "Test Accuracy of Trouser: 97% (971/1000)\n",
            "Test Accuracy of Pullover: 82% (821/1000)\n",
            "Test Accuracy of Dress: 89% (890/1000)\n",
            "Test Accuracy of  Coat: 86% (868/1000)\n",
            "Test Accuracy of Sandal: 96% (960/1000)\n",
            "Test Accuracy of Shirt: 51% (519/1000)\n",
            "Test Accuracy of Sneaker: 96% (962/1000)\n",
            "Test Accuracy of   Bag: 97% (975/1000)\n",
            "Test Accuracy of Ankle boot: 95% (950/1000)\n",
            "\n",
            "Test Accuracy (Overall): 88% (8814/10000)\n"
          ],
          "name": "stdout"
        }
      ]
    },
    {
      "cell_type": "code",
      "metadata": {
        "id": "bKsrE3rPrqVt",
        "colab_type": "code",
        "outputId": "95fc7141-2aae-4e14-b222-4e864301bf16",
        "colab": {
          "base_uri": "https://localhost:8080/",
          "height": 644
        }
      },
      "source": [
        "# obtain one batch of test images\n",
        "dataiter = iter(test_loder)\n",
        "images, labels = dataiter.next()\n",
        "# get predictions\n",
        "preds = np.squeeze(net(images).data.max(1, keepdim=True)[1].numpy())\n",
        "images = images.numpy()\n",
        "\n",
        "# plot the images in the batch, along with predicted and true labels\n",
        "fig = plt.figure(figsize=(25, 4))\n",
        "for idx in np.arange(batch_size):\n",
        "    ax = fig.add_subplot(2, batch_size/2, idx+1, xticks=[], yticks=[])\n",
        "    ax.imshow(np.squeeze(images[idx]), cmap='gray')\n",
        "    ax.set_title(\"{} ({})\".format(classes[preds[idx]], classes[labels[idx]]),\n",
        "                 color=(\"green\" if preds[idx]==labels[idx] else \"red\"))"
      ],
      "execution_count": 0,
      "outputs": [
        {
          "output_type": "error",
          "ename": "ValueError",
          "evalue": "ignored",
          "traceback": [
            "\u001b[0;31m---------------------------------------------------------------------------\u001b[0m",
            "\u001b[0;31mValueError\u001b[0m                                Traceback (most recent call last)",
            "\u001b[0;32m<ipython-input-28-86bdf5ba7e93>\u001b[0m in \u001b[0;36m<module>\u001b[0;34m()\u001b[0m\n\u001b[1;32m      8\u001b[0m \u001b[0mfig\u001b[0m \u001b[0;34m=\u001b[0m \u001b[0mplt\u001b[0m\u001b[0;34m.\u001b[0m\u001b[0mfigure\u001b[0m\u001b[0;34m(\u001b[0m\u001b[0mfigsize\u001b[0m\u001b[0;34m=\u001b[0m\u001b[0;34m(\u001b[0m\u001b[0;36m25\u001b[0m\u001b[0;34m,\u001b[0m \u001b[0;36m4\u001b[0m\u001b[0;34m)\u001b[0m\u001b[0;34m)\u001b[0m\u001b[0;34m\u001b[0m\u001b[0;34m\u001b[0m\u001b[0m\n\u001b[1;32m      9\u001b[0m \u001b[0;32mfor\u001b[0m \u001b[0midx\u001b[0m \u001b[0;32min\u001b[0m \u001b[0mnp\u001b[0m\u001b[0;34m.\u001b[0m\u001b[0marange\u001b[0m\u001b[0;34m(\u001b[0m\u001b[0mbatch_size\u001b[0m\u001b[0;34m)\u001b[0m\u001b[0;34m:\u001b[0m\u001b[0;34m\u001b[0m\u001b[0;34m\u001b[0m\u001b[0m\n\u001b[0;32m---> 10\u001b[0;31m     \u001b[0max\u001b[0m \u001b[0;34m=\u001b[0m \u001b[0mfig\u001b[0m\u001b[0;34m.\u001b[0m\u001b[0madd_subplot\u001b[0m\u001b[0;34m(\u001b[0m\u001b[0;36m2\u001b[0m\u001b[0;34m,\u001b[0m \u001b[0mbatch_size\u001b[0m\u001b[0;34m/\u001b[0m\u001b[0;36m2\u001b[0m\u001b[0;34m,\u001b[0m \u001b[0midx\u001b[0m\u001b[0;34m+\u001b[0m\u001b[0;36m1\u001b[0m\u001b[0;34m,\u001b[0m \u001b[0mxticks\u001b[0m\u001b[0;34m=\u001b[0m\u001b[0;34m[\u001b[0m\u001b[0;34m]\u001b[0m\u001b[0;34m,\u001b[0m \u001b[0myticks\u001b[0m\u001b[0;34m=\u001b[0m\u001b[0;34m[\u001b[0m\u001b[0;34m]\u001b[0m\u001b[0;34m)\u001b[0m\u001b[0;34m\u001b[0m\u001b[0;34m\u001b[0m\u001b[0m\n\u001b[0m\u001b[1;32m     11\u001b[0m     \u001b[0max\u001b[0m\u001b[0;34m.\u001b[0m\u001b[0mimshow\u001b[0m\u001b[0;34m(\u001b[0m\u001b[0mnp\u001b[0m\u001b[0;34m.\u001b[0m\u001b[0msqueeze\u001b[0m\u001b[0;34m(\u001b[0m\u001b[0mimages\u001b[0m\u001b[0;34m[\u001b[0m\u001b[0midx\u001b[0m\u001b[0;34m]\u001b[0m\u001b[0;34m)\u001b[0m\u001b[0;34m,\u001b[0m \u001b[0mcmap\u001b[0m\u001b[0;34m=\u001b[0m\u001b[0;34m'gray'\u001b[0m\u001b[0;34m)\u001b[0m\u001b[0;34m\u001b[0m\u001b[0;34m\u001b[0m\u001b[0m\n\u001b[1;32m     12\u001b[0m     ax.set_title(\"{} ({})\".format(classes[preds[idx]], classes[labels[idx]]),\n",
            "\u001b[0;32m/usr/local/lib/python3.6/dist-packages/matplotlib/figure.py\u001b[0m in \u001b[0;36madd_subplot\u001b[0;34m(self, *args, **kwargs)\u001b[0m\n\u001b[1;32m   1365\u001b[0m                     \u001b[0mself\u001b[0m\u001b[0;34m.\u001b[0m\u001b[0m_axstack\u001b[0m\u001b[0;34m.\u001b[0m\u001b[0mremove\u001b[0m\u001b[0;34m(\u001b[0m\u001b[0max\u001b[0m\u001b[0;34m)\u001b[0m\u001b[0;34m\u001b[0m\u001b[0;34m\u001b[0m\u001b[0m\n\u001b[1;32m   1366\u001b[0m \u001b[0;34m\u001b[0m\u001b[0m\n\u001b[0;32m-> 1367\u001b[0;31m             \u001b[0ma\u001b[0m \u001b[0;34m=\u001b[0m \u001b[0msubplot_class_factory\u001b[0m\u001b[0;34m(\u001b[0m\u001b[0mprojection_class\u001b[0m\u001b[0;34m)\u001b[0m\u001b[0;34m(\u001b[0m\u001b[0mself\u001b[0m\u001b[0;34m,\u001b[0m \u001b[0;34m*\u001b[0m\u001b[0margs\u001b[0m\u001b[0;34m,\u001b[0m \u001b[0;34m**\u001b[0m\u001b[0mkwargs\u001b[0m\u001b[0;34m)\u001b[0m\u001b[0;34m\u001b[0m\u001b[0;34m\u001b[0m\u001b[0m\n\u001b[0m\u001b[1;32m   1368\u001b[0m         \u001b[0mself\u001b[0m\u001b[0;34m.\u001b[0m\u001b[0m_axstack\u001b[0m\u001b[0;34m.\u001b[0m\u001b[0madd\u001b[0m\u001b[0;34m(\u001b[0m\u001b[0mkey\u001b[0m\u001b[0;34m,\u001b[0m \u001b[0ma\u001b[0m\u001b[0;34m)\u001b[0m\u001b[0;34m\u001b[0m\u001b[0;34m\u001b[0m\u001b[0m\n\u001b[1;32m   1369\u001b[0m         \u001b[0mself\u001b[0m\u001b[0;34m.\u001b[0m\u001b[0msca\u001b[0m\u001b[0;34m(\u001b[0m\u001b[0ma\u001b[0m\u001b[0;34m)\u001b[0m\u001b[0;34m\u001b[0m\u001b[0;34m\u001b[0m\u001b[0m\n",
            "\u001b[0;32m/usr/local/lib/python3.6/dist-packages/matplotlib/axes/_subplots.py\u001b[0m in \u001b[0;36m__init__\u001b[0;34m(self, fig, *args, **kwargs)\u001b[0m\n\u001b[1;32m     58\u001b[0m                     raise ValueError(\n\u001b[1;32m     59\u001b[0m                         (\"num must be 1 <= num <= {maxn}, not {num}\"\n\u001b[0;32m---> 60\u001b[0;31m                         ).format(maxn=rows*cols, num=num))\n\u001b[0m\u001b[1;32m     61\u001b[0m                 self._subplotspec = GridSpec(\n\u001b[1;32m     62\u001b[0m                         rows, cols, figure=self.figure)[int(num) - 1]\n",
            "\u001b[0;31mValueError\u001b[0m: num must be 1 <= num <= 24, not 25"
          ]
        },
        {
          "output_type": "display_data",
          "data": {
            "image/png": "[encoded data removed]",
            "text/plain": [
              "<Figure size 1800x288 with 24 Axes>"
            ]
          },
          "metadata": {
            "tags": []
          }
        }
      ]
    }
  ]
}